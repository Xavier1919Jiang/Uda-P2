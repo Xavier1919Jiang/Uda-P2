{
 "cells": [
  {
   "cell_type": "markdown",
   "metadata": {},
   "source": [
    "# PROJECT 2_TATANIC\n",
    "by Xaiver J  \n",
    "2017.12.17"
   ]
  },
  {
   "cell_type": "markdown",
   "metadata": {},
   "source": [
    "## 1. To Begin With\n",
    "In this report, I first looked at the data, and made certain cleaning to prepare for later processing. And then, some prescriptive statistics and graphes are presented to better understand these data. Furthermore, I look closer to the ralations ships between survival rate and factors contributing to that, during which certain questions are brought and explorations are made to clearify and answer these questions. And fianlly, a simple summary is made to review the knowledge and works learned before and during this project.  \n",
    "To better understand the data, I've looked up the event online. (see more click [Titanic](#https://en.wikipedia.org/wiki/RMS_Titanic))  \n",
    "__NOTE__:   \n",
    "1. Since this is actually the first full project using python, pandas and jupyter notebook, there are many questions I still cannot solve, though most of the problems I met during the process were solved by the forum 'stackoverflow'. So I would use 'Q+number' to denote my problems that still exist, and hoping you can help me with.   \n",
    "2. All the work was done in python 3 kernel.  \n",
    "Thank you! "
   ]
  },
  {
   "cell_type": "markdown",
   "metadata": {},
   "source": [
    "## 2. Data Wrangling"
   ]
  },
  {
   "cell_type": "markdown",
   "metadata": {},
   "source": [
    "### 2.1 Data Aquisition"
   ]
  },
  {
   "cell_type": "code",
   "execution_count": 1,
   "metadata": {
    "collapsed": true
   },
   "outputs": [],
   "source": [
    "import unicodecsv   \n",
    "import matplotlib.pyplot as plt\n",
    "import numpy as np\n",
    "import pandas as pd\n",
    "import seaborn as sns\n",
    "\n",
    "# use a function to read in the data.\n",
    "def read_csv(filename):             \n",
    "    with open(filename, 'rb') as f:\n",
    "        reader = unicodecsv.DictReader(f)\n",
    "        return list(reader)\n",
    "# set the name overall_data for the whole data acquired without any processing of the dataframe.\n",
    "data_original_df = pd.read_csv('titanic-data.csv')      "
   ]
  },
  {
   "cell_type": "markdown",
   "metadata": {},
   "source": [
    "In later work I disconvered that under certain circumstances to count the frequency of a certain grouped data is quite inconvenient using '.size()' or 'count()' functions, so here I add a new column named 'Num' to denote every sample, so I can use 'sum()' function to easily get the total number of a grouped data (while sometimes I'd choose 'count()' function to do the calculation)."
   ]
  },
  {
   "cell_type": "code",
   "execution_count": 2,
   "metadata": {
    "scrolled": true
   },
   "outputs": [
    {
     "name": "stdout",
     "output_type": "stream",
     "text": [
      "   PassengerId  Survived  Pclass  \\\n",
      "0            1         0       3   \n",
      "1            2         1       1   \n",
      "2            3         1       3   \n",
      "3            4         1       1   \n",
      "4            5         0       3   \n",
      "5            6         0       3   \n",
      "6            7         0       1   \n",
      "7            8         0       3   \n",
      "\n",
      "                                                Name     Sex   Age  SibSp  \\\n",
      "0                            Braund, Mr. Owen Harris    male  22.0      1   \n",
      "1  Cumings, Mrs. John Bradley (Florence Briggs Th...  female  38.0      1   \n",
      "2                             Heikkinen, Miss. Laina  female  26.0      0   \n",
      "3       Futrelle, Mrs. Jacques Heath (Lily May Peel)  female  35.0      1   \n",
      "4                           Allen, Mr. William Henry    male  35.0      0   \n",
      "5                                   Moran, Mr. James    male   NaN      0   \n",
      "6                            McCarthy, Mr. Timothy J    male  54.0      0   \n",
      "7                     Palsson, Master. Gosta Leonard    male   2.0      3   \n",
      "\n",
      "   Parch            Ticket     Fare Cabin Embarked  Num  \n",
      "0      0         A/5 21171   7.2500   NaN        S    1  \n",
      "1      0          PC 17599  71.2833   C85        C    1  \n",
      "2      0  STON/O2. 3101282   7.9250   NaN        S    1  \n",
      "3      0            113803  53.1000  C123        S    1  \n",
      "4      0            373450   8.0500   NaN        S    1  \n",
      "5      0            330877   8.4583   NaN        Q    1  \n",
      "6      0             17463  51.8625   E46        S    1  \n",
      "7      1            349909  21.0750   NaN        S    1  \n"
     ]
    }
   ],
   "source": [
    "# Add a column to count number of people\n",
    "data_original_df['Num']=1\n",
    "print (data_original_df.head(8))       # Just check if it goes right."
   ]
  },
  {
   "cell_type": "markdown",
   "metadata": {},
   "source": [
    "By presenting the data, I notice that there are some victims recorded without certain values(NA) for reasons we don't know, so before further analyzing, we should decide what to do with these NA values."
   ]
  },
  {
   "cell_type": "markdown",
   "metadata": {},
   "source": [
    "### 2.2 Fare Distribution\n",
    "In this section, I presented some descriptive statistical analysis on fare people spent for further exploration later."
   ]
  },
  {
   "cell_type": "code",
   "execution_count": 3,
   "metadata": {
    "scrolled": true
   },
   "outputs": [
    {
     "name": "stdout",
     "output_type": "stream",
     "text": [
      "count    891.000000\n",
      "mean      32.204208\n",
      "std       49.693429\n",
      "min        0.000000\n",
      "25%        7.910400\n",
      "50%       14.454200\n",
      "75%       31.000000\n",
      "max      512.329200\n",
      "Name: Fare, dtype: float64\n",
      "14.4542\n"
     ]
    }
   ],
   "source": [
    "#======================is null================\n",
    "if data_original_df['Fare'].isnull().sum()==0:           # Check if there's NA in fare column.\n",
    "    print (data_original_df['Fare'].describe())       \n",
    "    print (data_original_df['Fare'].median())"
   ]
  },
  {
   "cell_type": "code",
   "execution_count": 4,
   "metadata": {
    "scrolled": false
   },
   "outputs": [
    {
     "name": "stdout",
     "output_type": "stream",
     "text": [
      "Populating the interactive namespace from numpy and matplotlib\n"
     ]
    },
    {
     "data": {
      "text/plain": [
       "Text(0,0.5,'Dollors')"
      ]
     },
     "execution_count": 4,
     "metadata": {},
     "output_type": "execute_result"
    },
    {
     "data": {
      "image/png": "[encoded data removed]",
      "text/plain": [
       "<matplotlib.figure.Figure at 0x14c4a861668>"
      ]
     },
     "metadata": {},
     "output_type": "display_data"
    }
   ],
   "source": [
    "%pylab inline\n",
    "figure(figsize=(6,4), dpi=100)\n",
    "d=data_original_df['Fare']\n",
    "sns.distplot(d, kde=True, color=\"g\")\n",
    "plt.title('Fare Distribution')\n",
    "p1=plt.axvline(32.204208,color='red') #mean\n",
    "p2=plt.axvline(14.4542,color='yellow') #median\n",
    "plt.legend((p1, p2), ('Mean', 'Median'))\n",
    "plt.ylabel('Dollors')"
   ]
  },
  {
   "cell_type": "markdown",
   "metadata": {},
   "source": [
    "As is clear that the distribution of fare is negatively skewed, which definitely agrees with the fact that the 2% possesses the wealth of the 80%. "
   ]
  },
  {
   "cell_type": "markdown",
   "metadata": {},
   "source": [
    "### 2.3 Embarkment Distribution\n",
    "In this section I present the distribution of the ports that people came aboard. Combining with the fare distribution above we can explore some questions later."
   ]
  },
  {
   "cell_type": "code",
   "execution_count": 5,
   "metadata": {},
   "outputs": [
    {
     "name": "stdout",
     "output_type": "stream",
     "text": [
      "2\n"
     ]
    }
   ],
   "source": [
    "print (data_original_df['Embarked'].isnull().sum())          "
   ]
  },
  {
   "cell_type": "markdown",
   "metadata": {},
   "source": [
    "Apparently there exists 2 NA values in column 'Fare', so first I need to decide weather to drop these data or to use some method to fill in the NA values. I will make inference based on fare and embarkment distribution later, but now I just present facts. So for now I exclude those NA values in 'Embarked' column."
   ]
  },
  {
   "cell_type": "code",
   "execution_count": 6,
   "metadata": {
    "scrolled": false
   },
   "outputs": [
    {
     "name": "stdout",
     "output_type": "stream",
     "text": [
      "0\n"
     ]
    },
    {
     "data": {
      "text/html": [
       "<div>\n",
       "<style>\n",
       "    .dataframe thead tr:only-child th {\n",
       "        text-align: right;\n",
       "    }\n",
       "\n",
       "    .dataframe thead th {\n",
       "        text-align: left;\n",
       "    }\n",
       "\n",
       "    .dataframe tbody tr th {\n",
       "        vertical-align: top;\n",
       "    }\n",
       "</style>\n",
       "<table border=\"1\" class=\"dataframe\">\n",
       "  <thead>\n",
       "    <tr style=\"text-align: right;\">\n",
       "      <th></th>\n",
       "      <th>PassengerId</th>\n",
       "      <th>Survived</th>\n",
       "      <th>Pclass</th>\n",
       "      <th>Age</th>\n",
       "      <th>SibSp</th>\n",
       "      <th>Parch</th>\n",
       "      <th>Fare</th>\n",
       "      <th>Num</th>\n",
       "    </tr>\n",
       "    <tr>\n",
       "      <th>Embarked</th>\n",
       "      <th></th>\n",
       "      <th></th>\n",
       "      <th></th>\n",
       "      <th></th>\n",
       "      <th></th>\n",
       "      <th></th>\n",
       "      <th></th>\n",
       "      <th></th>\n",
       "    </tr>\n",
       "  </thead>\n",
       "  <tbody>\n",
       "    <tr>\n",
       "      <th>C</th>\n",
       "      <td>74820</td>\n",
       "      <td>93</td>\n",
       "      <td>317</td>\n",
       "      <td>4005.92</td>\n",
       "      <td>65</td>\n",
       "      <td>61</td>\n",
       "      <td>10072.2962</td>\n",
       "      <td>168</td>\n",
       "    </tr>\n",
       "    <tr>\n",
       "      <th>Q</th>\n",
       "      <td>32178</td>\n",
       "      <td>30</td>\n",
       "      <td>224</td>\n",
       "      <td>786.50</td>\n",
       "      <td>33</td>\n",
       "      <td>13</td>\n",
       "      <td>1022.2543</td>\n",
       "      <td>77</td>\n",
       "    </tr>\n",
       "    <tr>\n",
       "      <th>S</th>\n",
       "      <td>289496</td>\n",
       "      <td>217</td>\n",
       "      <td>1514</td>\n",
       "      <td>16312.75</td>\n",
       "      <td>368</td>\n",
       "      <td>266</td>\n",
       "      <td>17439.3988</td>\n",
       "      <td>644</td>\n",
       "    </tr>\n",
       "  </tbody>\n",
       "</table>\n",
       "</div>"
      ],
      "text/plain": [
       "          PassengerId  Survived  Pclass       Age  SibSp  Parch        Fare  \\\n",
       "Embarked                                                                      \n",
       "C               74820        93     317   4005.92     65     61  10072.2962   \n",
       "Q               32178        30     224    786.50     33     13   1022.2543   \n",
       "S              289496       217    1514  16312.75    368    266  17439.3988   \n",
       "\n",
       "          Num  \n",
       "Embarked       \n",
       "C         168  \n",
       "Q          77  \n",
       "S         644  "
      ]
     },
     "execution_count": 6,
     "metadata": {},
     "output_type": "execute_result"
    }
   ],
   "source": [
    "data_exclude_nonembark=data_original_df[pd.notnull(data_original_df['Embarked'])]\n",
    "print (data_exclude_nonembark['Embarked'].isnull().sum())\n",
    "non_embark=data_exclude_nonembark.groupby(['Embarked']).sum()\n",
    "non_embark"
   ]
  },
  {
   "cell_type": "code",
   "execution_count": 7,
   "metadata": {
    "scrolled": true
   },
   "outputs": [
    {
     "name": "stdout",
     "output_type": "stream",
     "text": [
      "Populating the interactive namespace from numpy and matplotlib\n"
     ]
    },
    {
     "data": {
      "text/plain": [
       "([<matplotlib.axis.XTick at 0x14c4afd0a20>,\n",
       "  <matplotlib.axis.XTick at 0x14c4ae8af60>,\n",
       "  <matplotlib.axis.XTick at 0x14c4afccd68>],\n",
       " <a list of 3 Text xticklabel objects>)"
      ]
     },
     "execution_count": 7,
     "metadata": {},
     "output_type": "execute_result"
    },
    {
     "data": {
      "image/png": "[encoded data removed]",
      "text/plain": [
       "<matplotlib.figure.Figure at 0x14c4adf7d68>"
      ]
     },
     "metadata": {},
     "output_type": "display_data"
    }
   ],
   "source": [
    "%pylab inline\n",
    "figure(figsize=(6,4), dpi=100)\n",
    "\n",
    "d_embark=non_embark['Num']\n",
    "embark_C =non_embark['Num'].iloc[0]\n",
    "embark_Q =non_embark['Num'].iloc[1]\n",
    "embark_S =non_embark['Num'].iloc[2]\n",
    "\n",
    "ind = np.arange(3)    # the x locations for the groups\n",
    "width = 0.35       # the width of the bars: can also be len(x) sequence\n",
    "\n",
    "p1 = plt.bar(ind, d_embark, width)\n",
    "#p2 = plt.bar(ind, class3_dead, width, bottom=class3_lived)\n",
    "\n",
    "plt.ylabel('Num')\n",
    "plt.title('Embarkment')\n",
    "plt.xticks(ind, ('C', 'Q','S'))"
   ]
  },
  {
   "cell_type": "markdown",
   "metadata": {},
   "source": [
    "### 2.2 Data Cleaning\n",
    "First, I need to find exactly whick columns contain NA values and how many."
   ]
  },
  {
   "cell_type": "code",
   "execution_count": 8,
   "metadata": {
    "scrolled": true
   },
   "outputs": [
    {
     "data": {
      "text/plain": [
       "PassengerId      0\n",
       "Survived         0\n",
       "Pclass           0\n",
       "Name             0\n",
       "Sex              0\n",
       "Age            177\n",
       "SibSp            0\n",
       "Parch            0\n",
       "Ticket           0\n",
       "Fare             0\n",
       "Cabin          687\n",
       "Embarked         2\n",
       "Num              0\n",
       "dtype: int64"
      ]
     },
     "execution_count": 8,
     "metadata": {},
     "output_type": "execute_result"
    }
   ],
   "source": [
    "data_original_df.isnull().sum(axis=0) #using isnull can identify NA values in the df, and sum can calculate how many."
   ]
  },
  {
   "cell_type": "markdown",
   "metadata": {},
   "source": [
    "As you can see these values appears in 'Age', 'Cabin' and 'Embark'. Now, I will take a few steps to process these values.\n",
    "\n",
    "First, for column 'Cabin', there are too much missing values, so whatever we do to fill in the NA would only cause more error, so we should just ignore this column."
   ]
  },
  {
   "cell_type": "markdown",
   "metadata": {},
   "source": [
    "### 2.2.1 Fill in NA values in Embarked column\n",
    "For column 'Emarked', I noticed that 'Fare' of all samples are provided, so it is reasonable to fill in the NA in 'Embarked' column using statistical analysis based on fare distribution.\n",
    "The core idea is to see what interval would their fares lie in, to do that I present a boxgraph based on class which is certainly an important factor to the fares people spent, and divided according to embarkment of course. Therefore, you can see how much people came aboard from different ports really spent, and how much most people spent in each group.(This method I use here is based on a previous ML project on kaggle: [Exploring Survival on the Titanic](#https://www.kaggle.com/mrisdal/exploring-survival-on-the-titanic/notebook) by Megan Risdal.  "
   ]
  },
  {
   "cell_type": "code",
   "execution_count": 9,
   "metadata": {
    "scrolled": true
   },
   "outputs": [
    {
     "name": "stdout",
     "output_type": "stream",
     "text": [
      "Populating the interactive namespace from numpy and matplotlib\n"
     ]
    },
    {
     "data": {
      "image/png": "[encoded data removed]",
      "text/plain": [
       "<matplotlib.figure.Figure at 0x14c4a831f60>"
      ]
     },
     "metadata": {},
     "output_type": "display_data"
    }
   ],
   "source": [
    "%pylab inline\n",
    "plt.figure(figsize=(6,6), dpi=100)\n",
    "sns.set(style=\"ticks\")\n",
    "# Load the example tips dataset\n",
    "fares = data_original_df\n",
    "#print (fares.head())\n",
    "# Draw a nested boxplot to show fares by class and embarked_port\n",
    "sns.boxplot(x=\"Embarked\", y=\"Fare\", hue=\"Pclass\", data=fares, palette=\"PRGn\")\n",
    "#sns.despine(offset=10, trim=True)\n",
    "lack_embarked_fare=data_original_df[data_original_df['Embarked'].isnull()]\n",
    "p1=plt.axhline(lack_embarked_fare['Fare'].median(),color='red') #median of fares of data without embarked values.\n"
   ]
  },
  {
   "cell_type": "markdown",
   "metadata": {},
   "source": [
    "As you can see, I printed out the two rows without 'Embarked' values, their fares are both $80, as is presented in the boxgraph. And clearly, the median of the two data without embarkment information is approximately the same with the median of the fare spent by who embarked on C(Charbourg) port to a first class. So we can presume that these two people most probably embarked from C. And so we fill in this finding into the dataframe."
   ]
  },
  {
   "cell_type": "markdown",
   "metadata": {},
   "source": [
    "So now, I give embarked value 'C' to the two missing values. In order not to preserve the original data intact, here I used copy function to create a new dataframe to fill in the values."
   ]
  },
  {
   "cell_type": "code",
   "execution_count": 10,
   "metadata": {},
   "outputs": [
    {
     "data": {
      "text/plain": [
       "\"\\ndata_embark_added=data_original_df.copy(deep=True)  \\ndata_embark_added=data_embark_added['Embarked'].fillna('C')\\ndata_embark_added.isnull().sum()\\n\""
      ]
     },
     "execution_count": 10,
     "metadata": {},
     "output_type": "execute_result"
    }
   ],
   "source": [
    "'''\n",
    "data_embark_added=data_original_df.copy(deep=True)  \n",
    "data_embark_added=data_embark_added['Embarked'].fillna('C')\n",
    "data_embark_added.isnull().sum()\n",
    "'''"
   ]
  },
  {
   "cell_type": "markdown",
   "metadata": {},
   "source": [
    "__Answer to the suggestions on my initial report. 您的反馈中提到我可以使用fillna来进行NA值填充，我在进行代码编写的时候想到过此命令以及其他一些类似的命令。但是我不这么做的原因是如上面标注内的代码，结果只有index 和 Embarked两列，虽然这里不会再用到其他列，但是以后肯定会有很多情况是填充过NA值后还需要进一步利用填充过的完整的dataframe来运算，所以为了保证df的完整我选择了下列填充方法。可以看到其实相比fillna并没有更复杂。另外，下面的dropna也有同样的问题。__"
   ]
  },
  {
   "cell_type": "code",
   "execution_count": 11,
   "metadata": {
    "scrolled": true
   },
   "outputs": [
    {
     "name": "stdout",
     "output_type": "stream",
     "text": [
      "   PassengerId  Survived  Pclass  \\\n",
      "0            1         0       3   \n",
      "1            2         1       1   \n",
      "2            3         1       3   \n",
      "3            4         1       1   \n",
      "4            5         0       3   \n",
      "\n",
      "                                                Name     Sex   Age  SibSp  \\\n",
      "0                            Braund, Mr. Owen Harris    male  22.0      1   \n",
      "1  Cumings, Mrs. John Bradley (Florence Briggs Th...  female  38.0      1   \n",
      "2                             Heikkinen, Miss. Laina  female  26.0      0   \n",
      "3       Futrelle, Mrs. Jacques Heath (Lily May Peel)  female  35.0      1   \n",
      "4                           Allen, Mr. William Henry    male  35.0      0   \n",
      "\n",
      "   Parch            Ticket     Fare Cabin Embarked  Num  \n",
      "0      0         A/5 21171   7.2500   NaN        S    1  \n",
      "1      0          PC 17599  71.2833   C85        C    1  \n",
      "2      0  STON/O2. 3101282   7.9250   NaN        S    1  \n",
      "3      0            113803  53.1000  C123        S    1  \n",
      "4      0            373450   8.0500   NaN        S    1  \n"
     ]
    }
   ],
   "source": [
    "data_embark_added=data_original_df.copy(deep=True)  # use copy to Make a deep copy, including a copy of the data and the indices instead of\n",
    "print (data_embark_added.head())                    # changing the original data.\n",
    "data_embark_added[data_embark_added['Embarked'].isnull()]='C'"
   ]
  },
  {
   "cell_type": "code",
   "execution_count": 12,
   "metadata": {
    "scrolled": true
   },
   "outputs": [
    {
     "name": "stdout",
     "output_type": "stream",
     "text": [
      "0\n",
      "2\n"
     ]
    }
   ],
   "source": [
    "print (data_embark_added['Embarked'].isnull().sum())           # Just check if the copy function worked.\n",
    "print (data_original_df['Embarked'].isnull().sum())            # And check if the original data is changed."
   ]
  },
  {
   "cell_type": "markdown",
   "metadata": {},
   "source": [
    "### 2.2.2 Exclude NA values in Age column\n",
    "For column 'Age', NA values account for 177/891=20% of the whole, so it would be inaccurate if we use statistical analysis to fill in these missing values. Furthermore, to look closer at the data, you can see that for these people missing thier age information, they really can be any ages, there is no correlation or clue that we can use to infere how old these people were. So here I decided to just exclude these data while analyzing patterns related to age.  "
   ]
  },
  {
   "cell_type": "code",
   "execution_count": 13,
   "metadata": {
    "scrolled": true
   },
   "outputs": [
    {
     "name": "stdout",
     "output_type": "stream",
     "text": [
      "   PassengerId  Survived  Pclass  \\\n",
      "0            1         0       3   \n",
      "1            2         1       1   \n",
      "2            3         1       3   \n",
      "3            4         1       1   \n",
      "4            5         0       3   \n",
      "6            7         0       1   \n",
      "7            8         0       3   \n",
      "8            9         1       3   \n",
      "\n",
      "                                                Name     Sex   Age  SibSp  \\\n",
      "0                            Braund, Mr. Owen Harris    male  22.0      1   \n",
      "1  Cumings, Mrs. John Bradley (Florence Briggs Th...  female  38.0      1   \n",
      "2                             Heikkinen, Miss. Laina  female  26.0      0   \n",
      "3       Futrelle, Mrs. Jacques Heath (Lily May Peel)  female  35.0      1   \n",
      "4                           Allen, Mr. William Henry    male  35.0      0   \n",
      "6                            McCarthy, Mr. Timothy J    male  54.0      0   \n",
      "7                     Palsson, Master. Gosta Leonard    male   2.0      3   \n",
      "8  Johnson, Mrs. Oscar W (Elisabeth Vilhelmina Berg)  female  27.0      0   \n",
      "\n",
      "   Parch            Ticket     Fare Cabin Embarked  Num  \n",
      "0      0         A/5 21171   7.2500   NaN        S    1  \n",
      "1      0          PC 17599  71.2833   C85        C    1  \n",
      "2      0  STON/O2. 3101282   7.9250   NaN        S    1  \n",
      "3      0            113803  53.1000  C123        S    1  \n",
      "4      0            373450   8.0500   NaN        S    1  \n",
      "6      0             17463  51.8625   E46        S    1  \n",
      "7      1            349909  21.0750   NaN        S    1  \n",
      "8      2            347742  11.1333   NaN        S    1  \n",
      "80.0\n",
      "0.42\n",
      "   PassengerId  Survived  Pclass  \\\n",
      "0            1         0       3   \n",
      "1            2         1       1   \n",
      "2            3         1       3   \n",
      "3            4         1       1   \n",
      "4            5         0       3   \n",
      "5            6         0       3   \n",
      "6            7         0       1   \n",
      "7            8         0       3   \n",
      "\n",
      "                                                Name     Sex   Age  SibSp  \\\n",
      "0                            Braund, Mr. Owen Harris    male  22.0      1   \n",
      "1  Cumings, Mrs. John Bradley (Florence Briggs Th...  female  38.0      1   \n",
      "2                             Heikkinen, Miss. Laina  female  26.0      0   \n",
      "3       Futrelle, Mrs. Jacques Heath (Lily May Peel)  female  35.0      1   \n",
      "4                           Allen, Mr. William Henry    male  35.0      0   \n",
      "5                                   Moran, Mr. James    male   NaN      0   \n",
      "6                            McCarthy, Mr. Timothy J    male  54.0      0   \n",
      "7                     Palsson, Master. Gosta Leonard    male   2.0      3   \n",
      "\n",
      "   Parch            Ticket     Fare Cabin Embarked  Num  \n",
      "0      0         A/5 21171   7.2500   NaN        S    1  \n",
      "1      0          PC 17599  71.2833   C85        C    1  \n",
      "2      0  STON/O2. 3101282   7.9250   NaN        S    1  \n",
      "3      0            113803  53.1000  C123        S    1  \n",
      "4      0            373450   8.0500   NaN        S    1  \n",
      "5      0            330877   8.4583   NaN        Q    1  \n",
      "6      0             17463  51.8625   E46        S    1  \n",
      "7      1            349909  21.0750   NaN        S    1  \n"
     ]
    }
   ],
   "source": [
    "# so here I exclude them for later use(when analyzed based on age).\n",
    "data_exclude_noage=data_original_df[pd.notnull(data_original_df['Age'])]\n",
    "#data_exclude_noage=overall_data_df.dropna(subset=['Age'])  #same functionality as above.\n",
    "\n",
    "print (data_exclude_noage.head(8))\n",
    "print (data_exclude_noage['Age'].max())\n",
    "print (data_exclude_noage['Age'].min())\n",
    "print (data_original_df.head(8))            # Just check if the original was changed."
   ]
  },
  {
   "cell_type": "code",
   "execution_count": 14,
   "metadata": {
    "scrolled": true
   },
   "outputs": [
    {
     "name": "stdout",
     "output_type": "stream",
     "text": [
      "                 PassengerId  Pclass       Age  SibSp  Parch        Fare  Num\n",
      "Sex    Survived                                                              \n",
      "female 0               35223     231   1603.00     98     84   1864.9752   81\n",
      "       1              100120     447   5683.00    120    120  12101.6876  233\n",
      "male   0              210189    1159  11382.50    206     97  10277.7447  468\n",
      "       1               51854     220   2536.67     42     39   4449.5418  109\n",
      "Sex     Survived\n",
      "female  0            81\n",
      "        1           233\n",
      "male    0           468\n",
      "        1           109\n",
      "Name: Num, dtype: int64\n",
      "                        PassengerId      Age  SibSp  Parch       Fare  Num\n",
      "Pclass Sex    Survived                                                    \n",
      "1      female 0                 975    77.00      2      4   331.8125    3\n",
      "              1               43131  2865.00     50     39  9644.0125   91\n",
      "       male   0               31849  2719.50     21     20  4842.9081   77\n",
      "              1               23750  1449.92     17     14  3358.6794   45\n",
      "2      female 0                2541   216.00      3      1   109.5000    6\n",
      "              1               31135  1909.50     34     45  1560.2292   70\n",
      "       male   0               41315  2803.00     28     13  1773.4958   91\n",
      "              1                7065   240.33      9     11   358.6167   17\n",
      "3      female 0               31707  1310.00     93     79  1423.6627   72\n",
      "              1               25854   908.50     36     36   897.4459   72\n",
      "       male   0              137025  5860.00    157     64  3661.3408  300\n",
      "              1               21039   846.42     16     14   732.2457   47\n"
     ]
    }
   ],
   "source": [
    "grouped_by_sex_survived=data_original_df.groupby(['Sex','Survived']).sum()\n",
    "print (grouped_by_sex_survived)\n",
    "grouped_by_sex_survived_df=pd.DataFrame(grouped_by_sex_survived)\n",
    "print (grouped_by_sex_survived_df['Num'])\n",
    "class_grouped=data_original_df.groupby(['Pclass','Sex','Survived']).sum()\n",
    "print (class_grouped)"
   ]
  },
  {
   "cell_type": "code",
   "execution_count": 15,
   "metadata": {
    "scrolled": false
   },
   "outputs": [
    {
     "name": "stdout",
     "output_type": "stream",
     "text": [
      "81\n"
     ]
    }
   ],
   "source": [
    "print (grouped_by_sex_survived_df['Num'].iloc[0])"
   ]
  },
  {
   "cell_type": "markdown",
   "metadata": {},
   "source": [
    "## 3. Feature Exploring"
   ]
  },
  {
   "cell_type": "markdown",
   "metadata": {},
   "source": [
    "### 3.3.1 Pclass&Sex VS Survival Rate\n",
    "According to the backgroud of the event, Titanic passengers were divided into three separate classes, determined not only by the price of their ticket, but by their wealth. First class passengers were the wealthiest on board, and were mostly business men or politicians. Second class were often professors or authors while third class or steerage was made up of primarily immigrants. All three classes were treated very differently when on board during the trip and after the sinking(see more click [HERE](#https://prezi.com/wb4tx5v4iqql/titanic-class-differences/)). And of course, I imagine women and children were treated with special care during the accident. These are understandable, so I presume that the survival rate among classes and sexes also varied. Therefore I present three stacked bar graphes illustrating how many people survived or passed during the event based on both their classes rank and their sexes."
   ]
  },
  {
   "cell_type": "code",
   "execution_count": 16,
   "metadata": {
    "scrolled": true
   },
   "outputs": [
    {
     "name": "stdout",
     "output_type": "stream",
     "text": [
      "Populating the interactive namespace from numpy and matplotlib\n"
     ]
    },
    {
     "data": {
      "text/plain": [
       "Text(0.5,1,'Class-3')"
      ]
     },
     "execution_count": 16,
     "metadata": {},
     "output_type": "execute_result"
    },
    {
     "data": {
      "image/png": "[encoded data removed]",
      "text/plain": [
       "<matplotlib.figure.Figure at 0x14c4b109978>"
      ]
     },
     "metadata": {},
     "output_type": "display_data"
    }
   ],
   "source": [
    "# See the graphes below and you will notice that there are many similar works to be done to match the data while \n",
    "# graphing the charts, so I first write a function to do so.\n",
    "def data_match_survived(data, x):\n",
    "    new_data=[]\n",
    "    if x==1:\n",
    "        new_data.append(data[1])\n",
    "        new_data.append(data[3])\n",
    "    else:\n",
    "        new_data.append(data[0])\n",
    "        new_data.append(data[2])\n",
    "    return new_data \n",
    "\n",
    "def draw_stacked_bar(x, y1, y2, xticks, yticks):          # Since I will draw three similar graphes, let's define a func first.\n",
    "    #plt.figure(figsize=(12,6), dpi=100)\n",
    "    #plt.subplot(1,4,x)\n",
    "    #N = 2\n",
    "    ind = np.arange(N)    # the x locations for the groups\n",
    "    width = 0.35       # the width of the bars: can also be len(x) sequence\n",
    "    p1 = plt.bar(ind, y2, width, color='b')\n",
    "    p2 = plt.bar(ind, y1, width, color='r', bottom=y2)\n",
    "    plt.xticks(ind, xticks)\n",
    "    plt.yticks(yticks)\n",
    "    plt.legend((p1[0], p2[0]), ('Survived', 'Not'),loc='upper left')\n",
    "    \n",
    "#==========================Code for Overall=============================================\n",
    "%pylab inline\n",
    "plt.figure(figsize=(12,6), dpi=100)\n",
    "plt.subplot(1,4,1)\n",
    "y1=data_match_survived(grouped_by_sex_survived_df['Num'],0)\n",
    "y2=data_match_survived(grouped_by_sex_survived_df['Num'],1)  \n",
    "N = 2\n",
    "draw_stacked_bar(1, y1, y2, ('Female', 'Male'), np.arange(0, 500, 100))\n",
    "plt.ylabel('Num')\n",
    "plt.title('Overall')\n",
    "\n",
    "#===================Code for 2nd plot(class-1 plot)=================================\n",
    "plt.subplot(1,4,2)\n",
    "y1 =data_match_survived(class_grouped.loc[1]['Num'],0)\n",
    "y2 =data_match_survived(class_grouped.loc[1]['Num'],1)\n",
    "draw_stacked_bar(2, y1, y2, ('Female', 'Male'), np.arange(0, 250, 50))\n",
    "plt.title('Class-1')\n",
    "#===================Code for 3rd plot(class-2 plot)=================================\n",
    "plt.subplot(1,4,3)\n",
    "y1 =data_match_survived(class_grouped.loc[2]['Num'],0)\n",
    "y2 =data_match_survived(class_grouped.loc[2]['Num'],1)\n",
    "\n",
    "draw_stacked_bar(2, y1, y2, ('Female', 'Male'), np.arange(0, 250, 50))\n",
    "plt.title('Class-2')\n",
    "#===================Code for 4th plot(class-3 plot)=================================\n",
    "plt.subplot(1,4,4)\n",
    "y1 =data_match_survived(class_grouped.loc[3]['Num'],0)\n",
    "y2 =data_match_survived(class_grouped.loc[3]['Num'],1)\n",
    "\n",
    "draw_stacked_bar(2, y1, y2, ('Female', 'Male'), np.arange(0, 250, 50))\n",
    "plt.title('Class-3')\n"
   ]
  },
  {
   "cell_type": "markdown",
   "metadata": {},
   "source": [
    "As you can see, the 1st graph on the left shows the overall number of people who survived and died based on their sexes, while the other three demonstrates situations of survival in different classes and their sexes. Clearly, women survived much more in both terms of surviral rate and numbers, which is really a twilight of hunmanity. However, you can also see that more people in the 1st class were survived comparing with those in the other two classes.  \n",
    "In addition, from the 1st graph we know that women on Titanic survived more than men, both in numbers and in survival rate. And thus we can presume that even in desperate situations, most people do take care of ladies first."
   ]
  },
  {
   "cell_type": "markdown",
   "metadata": {},
   "source": [
    "### 3.4 Survival Rate on Age\n",
    "In this section, I investigate the relationships between survival rate and the age of the people aboard. As I mentioned in section 2, NA values in age account for 20% of the total, so I decide to just exclude them, but only in this part."
   ]
  },
  {
   "cell_type": "code",
   "execution_count": 17,
   "metadata": {
    "scrolled": false
   },
   "outputs": [
    {
     "data": {
      "text/html": [
       "<div>\n",
       "<style>\n",
       "    .dataframe thead tr:only-child th {\n",
       "        text-align: right;\n",
       "    }\n",
       "\n",
       "    .dataframe thead th {\n",
       "        text-align: left;\n",
       "    }\n",
       "\n",
       "    .dataframe tbody tr th {\n",
       "        vertical-align: top;\n",
       "    }\n",
       "</style>\n",
       "<table border=\"1\" class=\"dataframe\">\n",
       "  <thead>\n",
       "    <tr style=\"text-align: right;\">\n",
       "      <th></th>\n",
       "      <th>PassengerId</th>\n",
       "      <th>Survived</th>\n",
       "      <th>Pclass</th>\n",
       "      <th>SibSp</th>\n",
       "      <th>Parch</th>\n",
       "      <th>Fare</th>\n",
       "      <th>Num</th>\n",
       "    </tr>\n",
       "    <tr>\n",
       "      <th>Age</th>\n",
       "      <th></th>\n",
       "      <th></th>\n",
       "      <th></th>\n",
       "      <th></th>\n",
       "      <th></th>\n",
       "      <th></th>\n",
       "      <th></th>\n",
       "    </tr>\n",
       "  </thead>\n",
       "  <tbody>\n",
       "    <tr>\n",
       "      <th>0.42</th>\n",
       "      <td>804</td>\n",
       "      <td>1</td>\n",
       "      <td>3</td>\n",
       "      <td>0</td>\n",
       "      <td>1</td>\n",
       "      <td>8.5167</td>\n",
       "      <td>1</td>\n",
       "    </tr>\n",
       "    <tr>\n",
       "      <th>0.67</th>\n",
       "      <td>756</td>\n",
       "      <td>1</td>\n",
       "      <td>2</td>\n",
       "      <td>1</td>\n",
       "      <td>1</td>\n",
       "      <td>14.5000</td>\n",
       "      <td>1</td>\n",
       "    </tr>\n",
       "    <tr>\n",
       "      <th>0.75</th>\n",
       "      <td>1115</td>\n",
       "      <td>2</td>\n",
       "      <td>6</td>\n",
       "      <td>4</td>\n",
       "      <td>2</td>\n",
       "      <td>38.5166</td>\n",
       "      <td>2</td>\n",
       "    </tr>\n",
       "    <tr>\n",
       "      <th>0.83</th>\n",
       "      <td>911</td>\n",
       "      <td>2</td>\n",
       "      <td>4</td>\n",
       "      <td>1</td>\n",
       "      <td>3</td>\n",
       "      <td>47.7500</td>\n",
       "      <td>2</td>\n",
       "    </tr>\n",
       "    <tr>\n",
       "      <th>0.92</th>\n",
       "      <td>306</td>\n",
       "      <td>1</td>\n",
       "      <td>1</td>\n",
       "      <td>1</td>\n",
       "      <td>2</td>\n",
       "      <td>151.5500</td>\n",
       "      <td>1</td>\n",
       "    </tr>\n",
       "    <tr>\n",
       "      <th>1.00</th>\n",
       "      <td>2908</td>\n",
       "      <td>5</td>\n",
       "      <td>19</td>\n",
       "      <td>13</td>\n",
       "      <td>11</td>\n",
       "      <td>210.0417</td>\n",
       "      <td>7</td>\n",
       "    </tr>\n",
       "    <tr>\n",
       "      <th>2.00</th>\n",
       "      <td>3469</td>\n",
       "      <td>3</td>\n",
       "      <td>26</td>\n",
       "      <td>21</td>\n",
       "      <td>13</td>\n",
       "      <td>375.3625</td>\n",
       "      <td>10</td>\n",
       "    </tr>\n",
       "    <tr>\n",
       "      <th>3.00</th>\n",
       "      <td>1632</td>\n",
       "      <td>5</td>\n",
       "      <td>15</td>\n",
       "      <td>11</td>\n",
       "      <td>8</td>\n",
       "      <td>154.6917</td>\n",
       "      <td>6</td>\n",
       "    </tr>\n",
       "  </tbody>\n",
       "</table>\n",
       "</div>"
      ],
      "text/plain": [
       "      PassengerId  Survived  Pclass  SibSp  Parch      Fare  Num\n",
       "Age                                                             \n",
       "0.42          804         1       3      0      1    8.5167    1\n",
       "0.67          756         1       2      1      1   14.5000    1\n",
       "0.75         1115         2       6      4      2   38.5166    2\n",
       "0.83          911         2       4      1      3   47.7500    2\n",
       "0.92          306         1       1      1      2  151.5500    1\n",
       "1.00         2908         5      19     13     11  210.0417    7\n",
       "2.00         3469         3      26     21     13  375.3625   10\n",
       "3.00         1632         5      15     11      8  154.6917    6"
      ]
     },
     "execution_count": 17,
     "metadata": {},
     "output_type": "execute_result"
    }
   ],
   "source": [
    "data_exclude_noage.groupby(['Age']).sum().head(8)      # exclusion has done in part 2, here I just check."
   ]
  },
  {
   "cell_type": "code",
   "execution_count": 18,
   "metadata": {
    "scrolled": true
   },
   "outputs": [
    {
     "name": "stdout",
     "output_type": "stream",
     "text": [
      "   PassengerId  Survived  Pclass  \\\n",
      "1            2         1       1   \n",
      "2            3         1       3   \n",
      "3            4         1       1   \n",
      "8            9         1       3   \n",
      "9           10         1       2   \n",
      "\n",
      "                                                Name     Sex   Age  SibSp  \\\n",
      "1  Cumings, Mrs. John Bradley (Florence Briggs Th...  female  38.0      1   \n",
      "2                             Heikkinen, Miss. Laina  female  26.0      0   \n",
      "3       Futrelle, Mrs. Jacques Heath (Lily May Peel)  female  35.0      1   \n",
      "8  Johnson, Mrs. Oscar W (Elisabeth Vilhelmina Berg)  female  27.0      0   \n",
      "9                Nasser, Mrs. Nicholas (Adele Achem)  female  14.0      1   \n",
      "\n",
      "   Parch            Ticket     Fare Cabin Embarked  Num  \n",
      "1      0          PC 17599  71.2833   C85        C    1  \n",
      "2      0  STON/O2. 3101282   7.9250   NaN        S    1  \n",
      "3      0            113803  53.1000  C123        S    1  \n",
      "8      2            347742  11.1333   NaN        S    1  \n",
      "9      0            237736  30.0708   NaN        C    1  \n"
     ]
    }
   ],
   "source": [
    "d_age=data_exclude_noage.groupby(['Age','Survived']).sum()\n",
    "#print (d_age)\n",
    "nonage_exclude_survived=data_exclude_noage[data_exclude_noage['Survived']==1]\n",
    "print (nonage_exclude_survived.head())\n",
    "nonage_exclude_died=data_exclude_noage[data_exclude_noage['Survived']==0]\n",
    "d1=nonage_exclude_survived.loc[:,['Age','Num']]\n",
    "d2=nonage_exclude_died.loc[:,['Age','Num']]\n",
    "s1=d1.groupby('Age').sum()['Num']\n",
    "s2=d2.groupby('Age').sum()['Num']\n",
    "#print (s1)"
   ]
  },
  {
   "cell_type": "code",
   "execution_count": 19,
   "metadata": {
    "scrolled": true
   },
   "outputs": [
    {
     "name": "stderr",
     "output_type": "stream",
     "text": [
      "C:\\Anacoda3\\lib\\site-packages\\numpy\\core\\fromnumeric.py:57: FutureWarning: reshape is deprecated and will raise in a subsequent release. Please use .values.reshape(...) instead\n",
      "  return getattr(obj, method)(*args, **kwds)\n"
     ]
    },
    {
     "data": {
      "text/plain": [
       "Text(0.5,1,'Survival Rate On Age Differences')"
      ]
     },
     "execution_count": 19,
     "metadata": {},
     "output_type": "execute_result"
    },
    {
     "data": {
      "image/png": "[encoded data removed]",
      "text/plain": [
       "<matplotlib.figure.Figure at 0x14c4b12f2e8>"
      ]
     },
     "metadata": {},
     "output_type": "display_data"
    }
   ],
   "source": [
    "filter = data_exclude_noage[\"Survived\"] ==1 \n",
    "plt.hist([data_exclude_noage['Age'][filter], data_exclude_noage['Age'][~filter]], stacked=True)\n",
    "#plt.legend((filter,~filter),('Survived','Not'))\n",
    "plt.xlabel('Age(year-old)')\n",
    "plt.ylabel('Num')\n",
    "plt.title('Survival Rate On Age Differences')\n",
    "#print (data_exclude_noage[data_exclude_noage['Age']<=10]['Num'].sum(0))"
   ]
  },
  {
   "cell_type": "markdown",
   "metadata": {},
   "source": [
    "__Q2__: This stacked histgram can be compared with the stacked bar graph above, you can see to draw this is quite simple. But I've tried many ways to add a legend, non of them succeeded, so how can I add a legend in this situation?"
   ]
  },
  {
   "cell_type": "markdown",
   "metadata": {
    "collapsed": true
   },
   "source": [
    "### 3.5 Family Survival Rate\n",
    "In this section, I explored the survival rate based on number of family members, which includes siblings, spouses, parents and children. So first I added a new column that equals to the sum of Parch and Sibsp."
   ]
  },
  {
   "cell_type": "code",
   "execution_count": 20,
   "metadata": {
    "collapsed": true
   },
   "outputs": [],
   "source": [
    "data_family_num=data_original_df.copy(deep=True)   # To avoid changing the original data, here I copied that to a new one."
   ]
  },
  {
   "cell_type": "code",
   "execution_count": 21,
   "metadata": {
    "scrolled": true
   },
   "outputs": [
    {
     "name": "stdout",
     "output_type": "stream",
     "text": [
      "    PassengerId  Survived  Pclass  \\\n",
      "0             1         0       3   \n",
      "1             2         1       1   \n",
      "2             3         1       3   \n",
      "3             4         1       1   \n",
      "4             5         0       3   \n",
      "5             6         0       3   \n",
      "6             7         0       1   \n",
      "7             8         0       3   \n",
      "8             9         1       3   \n",
      "9            10         1       2   \n",
      "10           11         1       3   \n",
      "11           12         1       1   \n",
      "12           13         0       3   \n",
      "13           14         0       3   \n",
      "14           15         0       3   \n",
      "\n",
      "                                                 Name     Sex   Age  SibSp  \\\n",
      "0                             Braund, Mr. Owen Harris    male  22.0      1   \n",
      "1   Cumings, Mrs. John Bradley (Florence Briggs Th...  female  38.0      1   \n",
      "2                              Heikkinen, Miss. Laina  female  26.0      0   \n",
      "3        Futrelle, Mrs. Jacques Heath (Lily May Peel)  female  35.0      1   \n",
      "4                            Allen, Mr. William Henry    male  35.0      0   \n",
      "5                                    Moran, Mr. James    male   NaN      0   \n",
      "6                             McCarthy, Mr. Timothy J    male  54.0      0   \n",
      "7                      Palsson, Master. Gosta Leonard    male   2.0      3   \n",
      "8   Johnson, Mrs. Oscar W (Elisabeth Vilhelmina Berg)  female  27.0      0   \n",
      "9                 Nasser, Mrs. Nicholas (Adele Achem)  female  14.0      1   \n",
      "10                    Sandstrom, Miss. Marguerite Rut  female   4.0      1   \n",
      "11                           Bonnell, Miss. Elizabeth  female  58.0      0   \n",
      "12                     Saundercock, Mr. William Henry    male  20.0      0   \n",
      "13                        Andersson, Mr. Anders Johan    male  39.0      1   \n",
      "14               Vestrom, Miss. Hulda Amanda Adolfina  female  14.0      0   \n",
      "\n",
      "    Parch            Ticket     Fare Cabin Embarked  Num  Family  \n",
      "0       0         A/5 21171   7.2500   NaN        S    1       1  \n",
      "1       0          PC 17599  71.2833   C85        C    1       1  \n",
      "2       0  STON/O2. 3101282   7.9250   NaN        S    1       0  \n",
      "3       0            113803  53.1000  C123        S    1       1  \n",
      "4       0            373450   8.0500   NaN        S    1       0  \n",
      "5       0            330877   8.4583   NaN        Q    1       0  \n",
      "6       0             17463  51.8625   E46        S    1       0  \n",
      "7       1            349909  21.0750   NaN        S    1       4  \n",
      "8       2            347742  11.1333   NaN        S    1       2  \n",
      "9       0            237736  30.0708   NaN        C    1       1  \n",
      "10      1           PP 9549  16.7000    G6        S    1       2  \n",
      "11      0            113783  26.5500  C103        S    1       0  \n",
      "12      0         A/5. 2151   8.0500   NaN        S    1       0  \n",
      "13      5            347082  31.2750   NaN        S    1       6  \n",
      "14      0            350406   7.8542   NaN        S    1       0  \n"
     ]
    },
    {
     "data": {
      "text/html": [
       "<div>\n",
       "<style>\n",
       "    .dataframe thead tr:only-child th {\n",
       "        text-align: right;\n",
       "    }\n",
       "\n",
       "    .dataframe thead th {\n",
       "        text-align: left;\n",
       "    }\n",
       "\n",
       "    .dataframe tbody tr th {\n",
       "        vertical-align: top;\n",
       "    }\n",
       "</style>\n",
       "<table border=\"1\" class=\"dataframe\">\n",
       "  <thead>\n",
       "    <tr style=\"text-align: right;\">\n",
       "      <th></th>\n",
       "      <th></th>\n",
       "      <th>PassengerId</th>\n",
       "      <th>Pclass</th>\n",
       "      <th>Name</th>\n",
       "      <th>Sex</th>\n",
       "      <th>Age</th>\n",
       "      <th>SibSp</th>\n",
       "      <th>Parch</th>\n",
       "      <th>Ticket</th>\n",
       "      <th>Fare</th>\n",
       "      <th>Cabin</th>\n",
       "      <th>Embarked</th>\n",
       "      <th>Num</th>\n",
       "    </tr>\n",
       "    <tr>\n",
       "      <th>Family</th>\n",
       "      <th>Survived</th>\n",
       "      <th></th>\n",
       "      <th></th>\n",
       "      <th></th>\n",
       "      <th></th>\n",
       "      <th></th>\n",
       "      <th></th>\n",
       "      <th></th>\n",
       "      <th></th>\n",
       "      <th></th>\n",
       "      <th></th>\n",
       "      <th></th>\n",
       "      <th></th>\n",
       "    </tr>\n",
       "  </thead>\n",
       "  <tbody>\n",
       "    <tr>\n",
       "      <th rowspan=\"2\" valign=\"top\">0</th>\n",
       "      <th>0</th>\n",
       "      <td>374</td>\n",
       "      <td>374</td>\n",
       "      <td>374</td>\n",
       "      <td>374</td>\n",
       "      <td>274</td>\n",
       "      <td>374</td>\n",
       "      <td>374</td>\n",
       "      <td>374</td>\n",
       "      <td>374</td>\n",
       "      <td>39</td>\n",
       "      <td>374</td>\n",
       "      <td>374</td>\n",
       "    </tr>\n",
       "    <tr>\n",
       "      <th>1</th>\n",
       "      <td>163</td>\n",
       "      <td>163</td>\n",
       "      <td>163</td>\n",
       "      <td>163</td>\n",
       "      <td>130</td>\n",
       "      <td>163</td>\n",
       "      <td>163</td>\n",
       "      <td>163</td>\n",
       "      <td>163</td>\n",
       "      <td>55</td>\n",
       "      <td>161</td>\n",
       "      <td>163</td>\n",
       "    </tr>\n",
       "    <tr>\n",
       "      <th rowspan=\"2\" valign=\"top\">1</th>\n",
       "      <th>0</th>\n",
       "      <td>72</td>\n",
       "      <td>72</td>\n",
       "      <td>72</td>\n",
       "      <td>72</td>\n",
       "      <td>63</td>\n",
       "      <td>72</td>\n",
       "      <td>72</td>\n",
       "      <td>72</td>\n",
       "      <td>72</td>\n",
       "      <td>17</td>\n",
       "      <td>72</td>\n",
       "      <td>72</td>\n",
       "    </tr>\n",
       "    <tr>\n",
       "      <th>1</th>\n",
       "      <td>89</td>\n",
       "      <td>89</td>\n",
       "      <td>89</td>\n",
       "      <td>89</td>\n",
       "      <td>76</td>\n",
       "      <td>89</td>\n",
       "      <td>89</td>\n",
       "      <td>89</td>\n",
       "      <td>89</td>\n",
       "      <td>49</td>\n",
       "      <td>89</td>\n",
       "      <td>89</td>\n",
       "    </tr>\n",
       "    <tr>\n",
       "      <th rowspan=\"2\" valign=\"top\">2</th>\n",
       "      <th>0</th>\n",
       "      <td>43</td>\n",
       "      <td>43</td>\n",
       "      <td>43</td>\n",
       "      <td>43</td>\n",
       "      <td>40</td>\n",
       "      <td>43</td>\n",
       "      <td>43</td>\n",
       "      <td>43</td>\n",
       "      <td>43</td>\n",
       "      <td>8</td>\n",
       "      <td>43</td>\n",
       "      <td>43</td>\n",
       "    </tr>\n",
       "    <tr>\n",
       "      <th>1</th>\n",
       "      <td>59</td>\n",
       "      <td>59</td>\n",
       "      <td>59</td>\n",
       "      <td>59</td>\n",
       "      <td>53</td>\n",
       "      <td>59</td>\n",
       "      <td>59</td>\n",
       "      <td>59</td>\n",
       "      <td>59</td>\n",
       "      <td>21</td>\n",
       "      <td>59</td>\n",
       "      <td>59</td>\n",
       "    </tr>\n",
       "    <tr>\n",
       "      <th rowspan=\"2\" valign=\"top\">3</th>\n",
       "      <th>0</th>\n",
       "      <td>8</td>\n",
       "      <td>8</td>\n",
       "      <td>8</td>\n",
       "      <td>8</td>\n",
       "      <td>6</td>\n",
       "      <td>8</td>\n",
       "      <td>8</td>\n",
       "      <td>8</td>\n",
       "      <td>8</td>\n",
       "      <td>2</td>\n",
       "      <td>8</td>\n",
       "      <td>8</td>\n",
       "    </tr>\n",
       "    <tr>\n",
       "      <th>1</th>\n",
       "      <td>21</td>\n",
       "      <td>21</td>\n",
       "      <td>21</td>\n",
       "      <td>21</td>\n",
       "      <td>21</td>\n",
       "      <td>21</td>\n",
       "      <td>21</td>\n",
       "      <td>21</td>\n",
       "      <td>21</td>\n",
       "      <td>7</td>\n",
       "      <td>21</td>\n",
       "      <td>21</td>\n",
       "    </tr>\n",
       "    <tr>\n",
       "      <th rowspan=\"2\" valign=\"top\">4</th>\n",
       "      <th>0</th>\n",
       "      <td>12</td>\n",
       "      <td>12</td>\n",
       "      <td>12</td>\n",
       "      <td>12</td>\n",
       "      <td>8</td>\n",
       "      <td>12</td>\n",
       "      <td>12</td>\n",
       "      <td>12</td>\n",
       "      <td>12</td>\n",
       "      <td>0</td>\n",
       "      <td>12</td>\n",
       "      <td>12</td>\n",
       "    </tr>\n",
       "    <tr>\n",
       "      <th>1</th>\n",
       "      <td>3</td>\n",
       "      <td>3</td>\n",
       "      <td>3</td>\n",
       "      <td>3</td>\n",
       "      <td>3</td>\n",
       "      <td>3</td>\n",
       "      <td>3</td>\n",
       "      <td>3</td>\n",
       "      <td>3</td>\n",
       "      <td>2</td>\n",
       "      <td>3</td>\n",
       "      <td>3</td>\n",
       "    </tr>\n",
       "    <tr>\n",
       "      <th rowspan=\"2\" valign=\"top\">5</th>\n",
       "      <th>0</th>\n",
       "      <td>19</td>\n",
       "      <td>19</td>\n",
       "      <td>19</td>\n",
       "      <td>19</td>\n",
       "      <td>19</td>\n",
       "      <td>19</td>\n",
       "      <td>19</td>\n",
       "      <td>19</td>\n",
       "      <td>19</td>\n",
       "      <td>2</td>\n",
       "      <td>19</td>\n",
       "      <td>19</td>\n",
       "    </tr>\n",
       "    <tr>\n",
       "      <th>1</th>\n",
       "      <td>3</td>\n",
       "      <td>3</td>\n",
       "      <td>3</td>\n",
       "      <td>3</td>\n",
       "      <td>3</td>\n",
       "      <td>3</td>\n",
       "      <td>3</td>\n",
       "      <td>3</td>\n",
       "      <td>3</td>\n",
       "      <td>2</td>\n",
       "      <td>3</td>\n",
       "      <td>3</td>\n",
       "    </tr>\n",
       "    <tr>\n",
       "      <th rowspan=\"2\" valign=\"top\">6</th>\n",
       "      <th>0</th>\n",
       "      <td>8</td>\n",
       "      <td>8</td>\n",
       "      <td>8</td>\n",
       "      <td>8</td>\n",
       "      <td>8</td>\n",
       "      <td>8</td>\n",
       "      <td>8</td>\n",
       "      <td>8</td>\n",
       "      <td>8</td>\n",
       "      <td>0</td>\n",
       "      <td>8</td>\n",
       "      <td>8</td>\n",
       "    </tr>\n",
       "    <tr>\n",
       "      <th>1</th>\n",
       "      <td>4</td>\n",
       "      <td>4</td>\n",
       "      <td>4</td>\n",
       "      <td>4</td>\n",
       "      <td>4</td>\n",
       "      <td>4</td>\n",
       "      <td>4</td>\n",
       "      <td>4</td>\n",
       "      <td>4</td>\n",
       "      <td>0</td>\n",
       "      <td>4</td>\n",
       "      <td>4</td>\n",
       "    </tr>\n",
       "    <tr>\n",
       "      <th>7</th>\n",
       "      <th>0</th>\n",
       "      <td>6</td>\n",
       "      <td>6</td>\n",
       "      <td>6</td>\n",
       "      <td>6</td>\n",
       "      <td>6</td>\n",
       "      <td>6</td>\n",
       "      <td>6</td>\n",
       "      <td>6</td>\n",
       "      <td>6</td>\n",
       "      <td>0</td>\n",
       "      <td>6</td>\n",
       "      <td>6</td>\n",
       "    </tr>\n",
       "    <tr>\n",
       "      <th>10</th>\n",
       "      <th>0</th>\n",
       "      <td>7</td>\n",
       "      <td>7</td>\n",
       "      <td>7</td>\n",
       "      <td>7</td>\n",
       "      <td>0</td>\n",
       "      <td>7</td>\n",
       "      <td>7</td>\n",
       "      <td>7</td>\n",
       "      <td>7</td>\n",
       "      <td>0</td>\n",
       "      <td>7</td>\n",
       "      <td>7</td>\n",
       "    </tr>\n",
       "  </tbody>\n",
       "</table>\n",
       "</div>"
      ],
      "text/plain": [
       "                 PassengerId  Pclass  Name  Sex  Age  SibSp  Parch  Ticket  \\\n",
       "Family Survived                                                              \n",
       "0      0                 374     374   374  374  274    374    374     374   \n",
       "       1                 163     163   163  163  130    163    163     163   \n",
       "1      0                  72      72    72   72   63     72     72      72   \n",
       "       1                  89      89    89   89   76     89     89      89   \n",
       "2      0                  43      43    43   43   40     43     43      43   \n",
       "       1                  59      59    59   59   53     59     59      59   \n",
       "3      0                   8       8     8    8    6      8      8       8   \n",
       "       1                  21      21    21   21   21     21     21      21   \n",
       "4      0                  12      12    12   12    8     12     12      12   \n",
       "       1                   3       3     3    3    3      3      3       3   \n",
       "5      0                  19      19    19   19   19     19     19      19   \n",
       "       1                   3       3     3    3    3      3      3       3   \n",
       "6      0                   8       8     8    8    8      8      8       8   \n",
       "       1                   4       4     4    4    4      4      4       4   \n",
       "7      0                   6       6     6    6    6      6      6       6   \n",
       "10     0                   7       7     7    7    0      7      7       7   \n",
       "\n",
       "                 Fare  Cabin  Embarked  Num  \n",
       "Family Survived                              \n",
       "0      0          374     39       374  374  \n",
       "       1          163     55       161  163  \n",
       "1      0           72     17        72   72  \n",
       "       1           89     49        89   89  \n",
       "2      0           43      8        43   43  \n",
       "       1           59     21        59   59  \n",
       "3      0            8      2         8    8  \n",
       "       1           21      7        21   21  \n",
       "4      0           12      0        12   12  \n",
       "       1            3      2         3    3  \n",
       "5      0           19      2        19   19  \n",
       "       1            3      2         3    3  \n",
       "6      0            8      0         8    8  \n",
       "       1            4      0         4    4  \n",
       "7      0            6      0         6    6  \n",
       "10     0            7      0         7    7  "
      ]
     },
     "execution_count": 21,
     "metadata": {},
     "output_type": "execute_result"
    }
   ],
   "source": [
    "\n",
    "data_family_num['Family']=data_family_num['Parch']+data_family_num['SibSp']\n",
    "print (data_family_num.head(15))\n",
    "data_family_num.groupby(['Family','Survived']).count()           # Just to see the grouped table."
   ]
  },
  {
   "cell_type": "code",
   "execution_count": 22,
   "metadata": {
    "collapsed": true,
    "scrolled": true
   },
   "outputs": [],
   "source": [
    "family01=data_family_num.groupby(['Family','Survived']).count()       # Just to lessen some typing work...\n"
   ]
  },
  {
   "cell_type": "markdown",
   "metadata": {},
   "source": [
    "To see the relationship more clearly, I will draw a multi index bar chart, stacked bar chart can work too, but since I've already done one."
   ]
  },
  {
   "cell_type": "code",
   "execution_count": 23,
   "metadata": {
    "scrolled": true
   },
   "outputs": [
    {
     "name": "stdout",
     "output_type": "stream",
     "text": [
      "Int64Index([0, 1, 2, 3, 4, 5, 6], dtype='int64', name='Family')\n"
     ]
    }
   ],
   "source": [
    "# Using x and y to denote variables to draw graph.\n",
    "x1=family01.iloc[family01.index.get_level_values('Survived') == 1]       \n",
    "y1=x1['Num']\n",
    "x2=family01.iloc[family01.index.get_level_values('Survived') == 0]\n",
    "y2=x2['Num']\n",
    "print (x1.index.get_level_values('Family'))"
   ]
  },
  {
   "cell_type": "code",
   "execution_count": 24,
   "metadata": {
    "scrolled": true
   },
   "outputs": [
    {
     "data": {
      "text/plain": [
       "Text(0.5,1,'Survival Rate About Family')"
      ]
     },
     "execution_count": 24,
     "metadata": {},
     "output_type": "execute_result"
    },
    {
     "data": {
      "image/png": "[encoded data removed]",
      "text/plain": [
       "<matplotlib.figure.Figure at 0x14c4b48ab38>"
      ]
     },
     "metadata": {},
     "output_type": "display_data"
    }
   ],
   "source": [
    "figure(figsize=(6,4), dpi=100)\n",
    "width = 0.4\n",
    "b1=plt.bar(x1.index.get_level_values('Family'),y1, width, color='b')\n",
    "b2=plt.bar(x2.index.get_level_values('Family') +width, y2, width, color='r')\n",
    "plt.xticks(x2.index.get_level_values('Family'))\n",
    "plt.legend((b1, b2), ('Survived', 'Not'))\n",
    "plt.xlabel('Family Size')\n",
    "plt.ylabel('Count')\n",
    "plt.title('Survival Rate About Family')"
   ]
  },
  {
   "cell_type": "markdown",
   "metadata": {},
   "source": [
    "As you can see, as the bigger the family is, the less likely them could survived. And 0 denotes people traveling on their own.  \n",
    "Here below, I also present the survival rate on male and female in a family. "
   ]
  },
  {
   "cell_type": "code",
   "execution_count": 25,
   "metadata": {
    "scrolled": false
   },
   "outputs": [
    {
     "name": "stdout",
     "output_type": "stream",
     "text": [
      "Populating the interactive namespace from numpy and matplotlib\n"
     ]
    },
    {
     "data": {
      "text/plain": [
       "<matplotlib.axes._subplots.AxesSubplot at 0x14c4ab434a8>"
      ]
     },
     "execution_count": 25,
     "metadata": {},
     "output_type": "execute_result"
    },
    {
     "data": {
      "image/png": "[encoded data removed]",
      "text/plain": [
       "<matplotlib.figure.Figure at 0x14c4b12fc18>"
      ]
     },
     "metadata": {},
     "output_type": "display_data"
    }
   ],
   "source": [
    "%pylab inline\n",
    "plt.figure(figsize=(6,6), dpi=100)\n",
    "sns.set(style=\"whitegrid\")\n",
    "sns.barplot(x='Family', y=\"Survived\", hue=\"Sex\", data=data_family_num, palette=\"PRGn\")\n",
    "#sns.despine(offset=10, trim=True)"
   ]
  },
  {
   "cell_type": "markdown",
   "metadata": {},
   "source": [
    "And you can see that female tend to have a bigger survival rate in the event."
   ]
  },
  {
   "cell_type": "markdown",
   "metadata": {},
   "source": [
    "### 3.6 Class VS Survival Rate\n",
    "最初版本只提供了class+sex和survival的情况，而没有拆开分别研究。这里进行补充。sex vs survival的情况可见class&sex vs survival的第一幅图。  \n",
    "To investigate the relationship between class and survival rate, we have to first standardize the survived column into survival rate, because as is suggested before, the population among these three class are not equal."
   ]
  },
  {
   "cell_type": "code",
   "execution_count": 26,
   "metadata": {
    "scrolled": true
   },
   "outputs": [
    {
     "name": "stdout",
     "output_type": "stream",
     "text": [
      "Populating the interactive namespace from numpy and matplotlib\n"
     ]
    },
    {
     "data": {
      "text/plain": [
       "Text(0.5,1,'Survival Rate About Class')"
      ]
     },
     "execution_count": 26,
     "metadata": {},
     "output_type": "execute_result"
    },
    {
     "data": {
      "image/png": "[encoded data removed]",
      "text/plain": [
       "<matplotlib.figure.Figure at 0x14c4b5cce80>"
      ]
     },
     "metadata": {},
     "output_type": "display_data"
    }
   ],
   "source": [
    "%pylab inline\n",
    "plt.figure(figsize=(6,6), dpi=100)\n",
    "sns.set(style=\"darkgrid\")\n",
    "sns.barplot(x='Pclass', y=\"Survived\", data=data_family_num, palette=\"PRGn\")\n",
    "#sns.despine(offset=10, trim=True)\n",
    "plt.ylabel('Survival Rate')\n",
    "plt.title('Survival Rate About Class')"
   ]
  },
  {
   "cell_type": "markdown",
   "metadata": {},
   "source": [
    "As you can see that the better class level people got, the bigger chances they would survive, it was because 1st class guests were treated more specially while poor people in class 3 didn't get much attention and care, especially under such circumstances. So to better deal with these situation, to improve survival rate, we need to treat people of different origins equally not necessarily in terms of services they enjoy aboard, but in terms of survival infrastructures and the access to lifeboats and others. "
   ]
  },
  {
   "cell_type": "markdown",
   "metadata": {},
   "source": [
    "## 4. Correlation\n",
    "As the analyses suggested in the 3rd part above, we can see that the survival rate are affected by many factors. Perticularly, relations between fares people spent and family menbers seemed more strong, to verify this, I will calculate the Pearson's R to make further investigation."
   ]
  },
  {
   "cell_type": "markdown",
   "metadata": {},
   "source": [
    "### 4.1 Correlation between fares and survival rate.\n"
   ]
  },
  {
   "cell_type": "markdown",
   "metadata": {},
   "source": [
    "__这里为修改： 由于fare是相对联系变量， 但是又非随时间变化或其他增长型变量， 所以采用折线图并不合适。这里改为分组的bar graph 用cut()指令。__  \n",
    "先求出fare的范围，来确定大致如何设置bin size."
   ]
  },
  {
   "cell_type": "code",
   "execution_count": 27,
   "metadata": {},
   "outputs": [
    {
     "name": "stdout",
     "output_type": "stream",
     "text": [
      "0.0\n"
     ]
    },
    {
     "data": {
      "text/plain": [
       "512.32920000000001"
      ]
     },
     "execution_count": 27,
     "metadata": {},
     "output_type": "execute_result"
    }
   ],
   "source": [
    "print (data_original_df['Fare'].min())\n",
    "data_original_df['Fare'].max()"
   ]
  },
  {
   "cell_type": "code",
   "execution_count": 28,
   "metadata": {
    "scrolled": true
   },
   "outputs": [
    {
     "data": {
      "text/plain": [
       "Fare_group\n",
       "(0, 50]       716\n",
       "(50, 100]     107\n",
       "(100, 150]     24\n",
       "(150, 200]      9\n",
       "(200, 250]     11\n",
       "(250, 300]      6\n",
       "(300, 350]      0\n",
       "(350, 400]      0\n",
       "(400, 450]      0\n",
       "(450, 500]      0\n",
       "Name: PassengerId, dtype: int64"
      ]
     },
     "execution_count": 28,
     "metadata": {},
     "output_type": "execute_result"
    }
   ],
   "source": [
    "bins= np.arange(0, 550, 50)\n",
    "data_survival_rate1=data_original_df.copy(deep=True)\n",
    "data_survival_rate1['Fare_group']=pd.cut(data_survival_rate1['Fare'],bins)\n",
    "data_survival_rate1.groupby('Fare_group')['PassengerId'].count()"
   ]
  },
  {
   "cell_type": "code",
   "execution_count": 29,
   "metadata": {
    "scrolled": false
   },
   "outputs": [
    {
     "name": "stdout",
     "output_type": "stream",
     "text": [
      "Fare_group\n",
      "(0, 50]       0.324022\n",
      "(50, 100]     0.654206\n",
      "(100, 150]    0.791667\n",
      "(150, 200]    0.666667\n",
      "(200, 250]    0.636364\n",
      "Name: Survived, dtype: float64\n"
     ]
    },
    {
     "data": {
      "text/plain": [
       "Text(0.5,1,'Survival Rate vs Fares')"
      ]
     },
     "execution_count": 29,
     "metadata": {},
     "output_type": "execute_result"
    },
    {
     "data": {
      "image/png": "[encoded data removed]",
      "text/plain": [
       "<matplotlib.figure.Figure at 0x14c4b6126a0>"
      ]
     },
     "metadata": {},
     "output_type": "display_data"
    }
   ],
   "source": [
    "print (data_survival_rate1.groupby('Fare_group')['Survived'].mean().head())    #这里对survived直接求平均即可得到rate.\n",
    "plt.figure(figsize=(6,5), dpi=100)\n",
    "data_survival_rate1.groupby('Fare_group')['Survived'].mean().plot(kind='bar')\n",
    "plt.xlabel('Fare_Group')\n",
    "plt.ylabel('Survival Rate')\n",
    "plt.title('Survival Rate vs Fares')"
   ]
  },
  {
   "cell_type": "markdown",
   "metadata": {},
   "source": [
    "改为分组的bar graph后可以看出fare和survival rate之间并没有明显的关系。"
   ]
  },
  {
   "cell_type": "markdown",
   "metadata": {},
   "source": [
    "Though, the Pearson's R suggests that fares and survival rate enjoys a negative relation, I would say that's in large proportion due to inequal distribution of the population. As is presented in part 2, fares' graph is negatively skewed so most people paied relatively small fares while only a small group of people paied much. So I would conclude that this relationship is void."
   ]
  },
  {
   "cell_type": "markdown",
   "metadata": {},
   "source": [
    "### 4.2 Correlation between family and survival rate.\n",
    "I have made a histgram above, on which I observed a relationship. So here I will calculation the Pearson's R to see how deep this relationship is in depth."
   ]
  },
  {
   "cell_type": "markdown",
   "metadata": {},
   "source": [
    "Again, I first add a survival rate column to the data, and to avoid changing the original one I first created a new dataframe using copy."
   ]
  },
  {
   "cell_type": "code",
   "execution_count": 30,
   "metadata": {
    "scrolled": true
   },
   "outputs": [
    {
     "name": "stdout",
     "output_type": "stream",
     "text": [
      "        PassengerId  Survived  Pclass       Age  SibSp  Parch        Fare  \\\n",
      "Family                                                                      \n",
      "0            245946       163    1289  13017.00      0      0  11407.3238   \n",
      "1             66467        89     309   4363.42    123     38   8032.9547   \n",
      "2             45732        59     227   2421.33     89    115   4048.6332   \n",
      "3             14916        21      60    493.42     39     48   1591.0708   \n",
      "4              5518         3      40    229.00     32     28    871.4168   \n",
      "\n",
      "        Num  Sur-rate  \n",
      "Family                 \n",
      "0       537  0.602694  \n",
      "1       161  0.180696  \n",
      "2       102  0.114478  \n",
      "3        29  0.032548  \n",
      "4        15  0.016835  \n"
     ]
    }
   ],
   "source": [
    "data_survivalrate_family=data_family_num.copy(deep=True)\n",
    "data_survivalrate_family['Sur-rate']=data_survivalrate_family['Num']/891\n",
    "family_grouped_survival_rate=data_survivalrate_family.groupby('Family').sum()\n",
    "print (family_grouped_survival_rate.head())"
   ]
  },
  {
   "cell_type": "code",
   "execution_count": 31,
   "metadata": {
    "scrolled": true
   },
   "outputs": [
    {
     "data": {
      "text/plain": [
       "Text(0.5,1,'Survival Rate About Family')"
      ]
     },
     "execution_count": 31,
     "metadata": {},
     "output_type": "execute_result"
    },
    {
     "data": {
      "image/png": "[encoded data removed]",
      "text/plain": [
       "<matplotlib.figure.Figure at 0x14c4b5f9a58>"
      ]
     },
     "metadata": {},
     "output_type": "display_data"
    }
   ],
   "source": [
    "plt.figure(figsize=(6,5), dpi=100)\n",
    "x=family_grouped_survival_rate.index.get_level_values('Family')\n",
    "y=family_grouped_survival_rate['Sur-rate']\n",
    "sns.barplot(x, y, palette=\"BuGn_d\")\n",
    "plt.xlabel('Family Size')\n",
    "plt.ylabel('Survival Rate')\n",
    "plt.title('Survival Rate About Family')"
   ]
  },
  {
   "cell_type": "code",
   "execution_count": 32,
   "metadata": {},
   "outputs": [
    {
     "data": {
      "text/plain": [
       "(-0.79628805493277122, 0.010228146142421837)"
      ]
     },
     "execution_count": 32,
     "metadata": {},
     "output_type": "execute_result"
    }
   ],
   "source": [
    "from scipy.stats.stats import pearsonr\n",
    "pearsonr(family_grouped_survival_rate.index.get_level_values('Family'),family_grouped_survival_rate['Fare'])"
   ]
  },
  {
   "cell_type": "markdown",
   "metadata": {},
   "source": [
    "According to the Pearson's R, which is presented in the form of (Pearson's correlation coefficient, 2-tailed p-value). It is clear that the bigger the family is, the less they are likely to survive in a situation like this.   \n",
    "因为family size非连续变量，所以改为barchart."
   ]
  },
  {
   "cell_type": "markdown",
   "metadata": {},
   "source": [
    "### 4.3 Conclusion\n",
    "Combining part2, part3 and part4, I've investigated survival rates varying according to ages, family members, sexes and fares people paied. And some relationships are rather clear while others may be not. Anyway, there are many limitaions in this process, like the data we use is merely a sample, and to investigate how those factors affect survival rate would need more than data but more about human reasons. Even though I have drawn graphes to illustrate relations between sex and survival or others, I've learned a little about the event that it was human error that caused the accident and it was some staffs' selfishness that caused so much loss after the hit( [Titanic](#https://en.wikipedia.org/wiki/RMS_Titanic)). So by doing this investigation, we can present a macro picture of the people aboard while to improve survival rate in later days, we have to start from human ourselves."
   ]
  },
  {
   "cell_type": "markdown",
   "metadata": {},
   "source": [
    "# 5. Summary\n",
    "I have to addmit that project-2 is rather complicated than p1. In p1 all I need were provided in detail in the lessons, while in p2, I have to look up more, which is definitely a good thing. I've not only discovery much more interesting websites about data science like 'kaggle', but I also learned much more on how to resolve an issue while encounting a problem, for instance, to look up the 'stackoverflow' site.  \n",
    "And fianlly, since this is the very 1st full project on jupyter using python and pandas etc, there must be many many mistakes and foolish steps, but I still want to know that in general, if you were to give a score to this report on a 100 scale how much would you give? And what is my level among peers that have been submitted their reports?   \n",
    "THANK YOU!  \n",
    "2017.12.14.  \n",
    "by Xavier J"
   ]
  }
 ],
 "metadata": {
  "kernelspec": {
   "display_name": "Python 3",
   "language": "python",
   "name": "python3"
  },
  "language_info": {
   "codemirror_mode": {
    "name": "ipython",
    "version": 3
   },
   "file_extension": ".py",
   "mimetype": "text/x-python",
   "name": "python",
   "nbconvert_exporter": "python",
   "pygments_lexer": "ipython3",
   "version": "3.6.3"
  }
 },
 "nbformat": 4,
 "nbformat_minor": 2
}
